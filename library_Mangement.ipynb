{
  "nbformat": 4,
  "nbformat_minor": 0,
  "metadata": {
    "colab": {
      "provenance": [],
      "authorship_tag": "ABX9TyNKAmKP+Ymy1iegGS1pg7oG",
      "include_colab_link": true
    },
    "kernelspec": {
      "name": "python3",
      "display_name": "Python 3"
    },
    "language_info": {
      "name": "python"
    }
  },
  "cells": [
    {
      "cell_type": "markdown",
      "metadata": {
        "id": "view-in-github",
        "colab_type": "text"
      },
      "source": [
        "<a href=\"https://colab.research.google.com/github/aimanarshad/Personal_library_mangement/blob/main/library_Mangement.ipynb\" target=\"_parent\"><img src=\"https://colab.research.google.com/assets/colab-badge.svg\" alt=\"Open In Colab\"/></a>"
      ]
    },
    {
      "cell_type": "code",
      "source": [
        "# Dictionary storing books\n",
        "Books = [\n",
        "    {\"title\": \"The Great Gatsby\", \"author\": \"F. Scott Fitzgerald\", \"year\": 1925, \"genre\": \"Fiction\", \"read\": True},\n",
        "    {\"title\": \"1984\", \"author\": \"George Orwell\", \"year\": 1949, \"genre\": \"Dystopian\", \"read\": False},\n",
        "    {\"title\": \"To Kill a Mockingbird\", \"author\": \"Harper Lee\", \"year\": 1960, \"genre\": \"Fiction\", \"read\": True},\n",
        "    {\"title\": \"Moby Dick\", \"author\": \"Herman Melville\", \"year\": 1851, \"genre\": \"Adventure\", \"read\": False},\n",
        "    {\"title\": \"Pride and Prejudice\", \"author\": \"Jane Austen\", \"year\": 1813, \"genre\": \"Romance\", \"read\": True},\n",
        "    {\"title\": \"The Catcher in the Rye\", \"author\": \"J.D. Salinger\", \"year\": 1951, \"genre\": \"Fiction\", \"read\": False},\n",
        "    {\"title\": \"Brave New World\", \"author\": \"Aldous Huxley\", \"year\": 1932, \"genre\": \"Dystopian\", \"read\": True},\n",
        "    {\"title\": \"The Hobbit\", \"author\": \"J.R.R. Tolkien\", \"year\": 1937, \"genre\": \"Fantasy\", \"read\": True},\n",
        "    {\"title\": \"Fahrenheit 451\", \"author\": \"Ray Bradbury\", \"year\": 1953, \"genre\": \"Dystopian\", \"read\": False},\n",
        "    {\"title\": \"Crime and Punishment\", \"author\": \"Fyodor Dostoevsky\", \"year\": 1866, \"genre\": \"Psychological Fiction\", \"read\": True}\n",
        "]\n",
        "\n",
        "def add_book():\n",
        "    book_details = {\n",
        "        \"title\": input(\"Enter book title: \"),\n",
        "        \"author\": input(\"Enter author: \"),\n",
        "        \"year\": int(input(\"Enter publication year: \")),\n",
        "        \"genre\": input(\"Enter genre: \"),\n",
        "        \"read\": input(\"Have you read this book? (yes/no): \").strip().lower() == \"yes\"\n",
        "    }\n",
        "\n",
        "    Books.append(book_details)\n",
        "    print(f\"'{book_details['title']}' added successfully!\")\n",
        "\n",
        "def remove_book():\n",
        "    book_title = input(\"Enter title of the book to delete: \")\n",
        "\n",
        "    for b in Books:\n",
        "        if b[\"title\"] == book_title:\n",
        "            Books.remove(b)\n",
        "            print(f\"'{book_title}' removed successfully!\")\n",
        "            return  # Exit after removing the book\n",
        "\n",
        "    print(\"Book not found!\")\n",
        "\n",
        "def search_book():\n",
        "    search_title = input(\"Enter title of book to search: \")\n",
        "\n",
        "    found = False\n",
        "    for book in Books:\n",
        "        if book[\"title\"] == search_title:\n",
        "            print(f\"Book found: {book}\")\n",
        "            found = True\n",
        "            break  # Stop searching once found\n",
        "\n",
        "    if not found:\n",
        "        print(\"Book not found!\")\n",
        "\n",
        "def display_books():\n",
        "    if not Books:\n",
        "        print(\"No books in the library.\")\n",
        "    else:\n",
        "        print(\"\\nLibrary Books:\")\n",
        "        for book in Books:\n",
        "            status = \"Read\" if book[\"read\"] else \"Unread\"\n",
        "            print(\"------------------------------------------------------\")\n",
        "            print(f\"\\n Title of book : {book['title']} \\n Author: {book['author']} \\n Year of publish:({book['year']})\\n Genere {book['genre']} \\n Read status {status}\")\n",
        "            print(\"------------------------------------------------------\")\n",
        "\n",
        "def display_statistics():\n",
        "    total_books = len(Books)\n",
        "    read_books = sum(1 for book in Books if book[\"read\"])\n",
        "\n",
        "    percentage = (read_books / total_books * 100) if total_books > 0 else 0\n",
        "\n",
        "    print(f\"Total books: {total_books}\")\n",
        "    print(f\"Percentage read: {percentage:.2f}%\")\n",
        "\n",
        "def exit_program():\n",
        "    print(\"Exiting the program. Goodbye!\")\n",
        "\n",
        "menu_options = {\n",
        "    1: add_book,\n",
        "    2: remove_book,\n",
        "    3: search_book,\n",
        "    4: display_books,\n",
        "    5: display_statistics\n",
        "}\n",
        "\n",
        "while True:\n",
        "    print(\"\\nMenu:\")\n",
        "    print(\"1. Add a book\")\n",
        "    print(\"2. Remove a book\")\n",
        "    print(\"3. Search for a book\")\n",
        "    print(\"4. Display all books\")\n",
        "    print(\"5. Display statistics\")\n",
        "    print(\"6. Exit\")\n",
        "\n",
        "    try:\n",
        "        choice = int(input(\"Enter your choice: \"))\n",
        "\n",
        "        if choice == 6:  # If user chooses Exit\n",
        "            exit_program()\n",
        "            break  # Break the loop\n",
        "\n",
        "        if choice in menu_options:\n",
        "            menu_options[choice]()  # Call the corresponding function\n",
        "        else:\n",
        "            print(\"Invalid choice! Please enter a number between 1 and 6.\")\n",
        "\n",
        "    except ValueError:\n",
        "        print(\"Invalid input! Please enter a valid number.\")\n"
      ],
      "metadata": {
        "colab": {
          "base_uri": "https://localhost:8080/"
        },
        "id": "N-IuuUA2g2_i",
        "outputId": "d9e74c16-b60d-4ddc-bb07-df5fd274d6d5"
      },
      "execution_count": 3,
      "outputs": [
        {
          "output_type": "stream",
          "name": "stdout",
          "text": [
            "\n",
            "Menu:\n",
            "1. Add a book\n",
            "2. Remove a book\n",
            "3. Search for a book\n",
            "4. Display all books\n",
            "5. Display statistics\n",
            "6. Exit\n",
            "Enter your choice: 6\n",
            "Exiting the program. Goodbye!\n"
          ]
        }
      ]
    }
  ]
}